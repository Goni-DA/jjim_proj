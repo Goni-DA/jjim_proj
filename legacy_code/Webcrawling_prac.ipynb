{
 "cells": [
  {
   "cell_type": "code",
   "execution_count": null,
   "source": [
    "import requests\n",
    "from bs4 import BeautifulSoup\n",
    "\n",
    "url = 'https://search.shopping.naver.com/search/category?catId=50000198'\n",
    "\n",
    "response = requests.get(url)\n",
    "\n",
    "if response.status_code == 200:\n",
    "    html = response.text\n",
    "    soup = BeautifulSoup(html, 'html.parser')\n",
    "    title_list = soup.select('#__next > div > div.style_container__1YjHN > div > \\\n",
    "                            div.style_content_wrap__1PzEo > div.style_content__2T20F > ul > div > div > li > div > div.basicList_info_area__17Xyo >\\\n",
    "                            div.basicList_title__3P9Q7 > a.basicList_link__1MaTN')\n",
    "    print(title_list[0].text)\n",
    "\n",
    "else : \n",
    "    print(response.status_code)\n"
   ],
   "outputs": [],
   "metadata": {}
  },
  {
   "cell_type": "code",
   "execution_count": null,
   "source": [
    "for i, title in enumerate(title_list):\n",
    "    print('{}tnsdnl: {}'.format(i+1, title.text))"
   ],
   "outputs": [],
   "metadata": {}
  },
  {
   "cell_type": "code",
   "execution_count": null,
   "source": [
    "!pip install selenium"
   ],
   "outputs": [],
   "metadata": {}
  },
  {
   "cell_type": "code",
   "execution_count": 18,
   "source": [
    "!pip install openpyxl"
   ],
   "outputs": [
    {
     "output_type": "stream",
     "name": "stdout",
     "text": [
      "Collecting openpyxl\n",
      "  Downloading openpyxl-3.0.7-py2.py3-none-any.whl (243 kB)\n",
      "Collecting et-xmlfile\n",
      "  Downloading et_xmlfile-1.1.0-py3-none-any.whl (4.7 kB)\n",
      "Installing collected packages: et-xmlfile, openpyxl\n",
      "Successfully installed et-xmlfile-1.1.0 openpyxl-3.0.7\n"
     ]
    },
    {
     "output_type": "stream",
     "name": "stderr",
     "text": [
      "WARNING: You are using pip version 21.0.1; however, version 21.1.3 is available.\n",
      "You should consider upgrading via the 'c:\\users\\goni l\\appdata\\local\\programs\\python\\python37\\python.exe -m pip install --upgrade pip' command.\n"
     ]
    }
   ],
   "metadata": {}
  },
  {
   "cell_type": "code",
   "execution_count": 1,
   "source": [
    "#자동화 관련 library import\n",
    "\n",
    "\n",
    "import selenium\n",
    "from selenium import webdriver\n",
    "from selenium.webdriver import ActionChains\n",
    "\n",
    "from selenium.webdriver.common.keys import Keys\n",
    "from selenium.webdriver.common.by import By\n",
    "\n",
    "from selenium.webdriver.support import expected_conditions as EC\n",
    "from selenium.webdriver.support.ui import Select\n",
    "from selenium.webdriver.support.ui import WebDriverWait\n",
    "\n",
    "import requests\n",
    "from bs4 import BeautifulSoup\n",
    "\n",
    "import time\n",
    "\n",
    "import pandas as pd\n",
    "import numpy as np"
   ],
   "outputs": [],
   "metadata": {}
  },
  {
   "cell_type": "code",
   "execution_count": null,
   "source": [
    "#웹드라이버 / URL 선언\r\n",
    "\r\n",
    "driver = webdriver.Chrome()\r\n",
    "url = 'https://search.shopping.naver.com/search/category?catId=50000198'\r\n",
    "driver.get(url)"
   ],
   "outputs": [],
   "metadata": {}
  },
  {
   "cell_type": "code",
   "execution_count": 2,
   "source": [
    "#웹드라이버 / URL 선언\r\n",
    "\r\n",
    "url = 'https://search.shopping.naver.com/search/category?catId=50000198'\r\n"
   ],
   "outputs": [],
   "metadata": {}
  },
  {
   "cell_type": "code",
   "execution_count": null,
   "source": [
    "# 검색어를 입력하고, 자동으로 입력결과 페이지를 출력하는 함수\r\n",
    "\r\n",
    "def search_by_name(ask):\r\n",
    "    elem = driver.find_element_by_class_name(\"searchInput_search_input__1Eclz\")\r\n",
    "    elem.clear()\r\n",
    "    elem.send_keys(ask)\r\n",
    "    driver.implicitly_wait(time_to_wait=5)\r\n",
    "    driver.execute_script('window.scrollTo(0, document.body.scrollHeight);')\r\n",
    "    result = elem.send_keys(Keys.RETURN)\r\n",
    "    return result"
   ],
   "outputs": [],
   "metadata": {}
  },
  {
   "cell_type": "code",
   "execution_count": 19,
   "source": [
    "# 현재 페이지에서 필요한 정보들을 받아보자\r\n",
    "def jjim_file(url):\r\n",
    "    driver = webdriver.Chrome()\r\n",
    "    driver.get(url)\r\n",
    "\r\n",
    "    driver.execute_script('window.scrollTo(0, document.body.scrollHeight);')\r\n",
    "    time.sleep(4)\r\n",
    "\r\n",
    "    pn_list = []\r\n",
    "    jj_list = []\r\n",
    "    link_list = []\r\n",
    "\r\n",
    "    # 품목명 가져오기\r\n",
    "    product_name = driver.find_elements_by_css_selector('#__next > div > div.style_container__1YjHN > div >\\\r\n",
    "                                div.style_content_wrap__1PzEo > div.style_content__2T20F > ul > div > div > li > div > div.basicList_info_area__17Xyo >\\\r\n",
    "                                div.basicList_title__3P9Q7 > a.basicList_link__1MaTN')\r\n",
    "    # 품목명 리스트화\r\n",
    "    for name in product_name:\r\n",
    "        pn_list.append(name.text)\r\n",
    "\r\n",
    "\r\n",
    "    # 찜하기 갯수 가져오기\r\n",
    "    jjim_num = driver.find_elements_by_css_selector('#__next > div > div.style_container__1YjHN > div >\\\r\n",
    "                                div.style_content_wrap__1PzEo > div.style_content__2T20F > ul > div > div > li > div > div.basicList_info_area__17Xyo >\\\r\n",
    "                                div.basicList_etc_box__1Jzg6 > span.basicList_etc__2uAYO > button > span > em')\r\n",
    "    # 찜하기 리스트화\r\n",
    "    for num in jjim_num:\r\n",
    "        real_num = num.text.replace(\",\",\"\")        \r\n",
    "        jj_list.append(int(real_num))\r\n",
    "\r\n",
    "    # 이동링크 가져오기\r\n",
    "    link_tag = driver.find_elements_by_css_selector('#__next > div > div.style_container__1YjHN > div >\\\r\n",
    "                                div.style_content_wrap__1PzEo > div.style_content__2T20F > ul > div > div > li > div > div.basicList_info_area__17Xyo >\\\r\n",
    "                                div.basicList_title__3P9Q7 > a.basicList_link__1MaTN')\r\n",
    "\r\n",
    "    # 링크 리스트화\r\n",
    "    for link in link_tag:\r\n",
    "        link_list.append(link.get_attribute('href'))\r\n",
    "\r\n",
    "\r\n",
    "    df = pd.DataFrame(list(zip(pn_list,jj_list,link_list)), columns = ['Name','jjim','link'])\r\n",
    "    df_done = df.sort_values(by=['jjim'], ascending=False)\r\n",
    "    df_done.to_excel('hair_cat.xlsx', index=False)\r\n",
    "\r\n",
    "    return "
   ],
   "outputs": [],
   "metadata": {}
  },
  {
   "cell_type": "code",
   "execution_count": 20,
   "source": [
    "jjim_file(url)"
   ],
   "outputs": [],
   "metadata": {}
  },
  {
   "cell_type": "code",
   "execution_count": null,
   "source": [],
   "outputs": [],
   "metadata": {}
  },
  {
   "cell_type": "code",
   "execution_count": null,
   "source": [],
   "outputs": [],
   "metadata": {}
  }
 ],
 "metadata": {
  "interpreter": {
   "hash": "9ec743d38b3b07a198f623f9e25e834c68b011b48558225253ecc63086e641e9"
  },
  "kernelspec": {
   "display_name": "Python 3.7.4 64-bit",
   "name": "python3"
  },
  "language_info": {
   "codemirror_mode": {
    "name": "ipython",
    "version": 3
   },
   "file_extension": ".py",
   "mimetype": "text/x-python",
   "name": "python",
   "nbconvert_exporter": "python",
   "pygments_lexer": "ipython3",
   "version": "3.7.4"
  },
  "orig_nbformat": 4
 },
 "nbformat": 4,
 "nbformat_minor": 2
}